{
 "cells": [
  {
   "cell_type": "markdown",
   "metadata": {},
   "source": [
    "# 实验一 图像基本操作及点处理\n",
    "### 一、实验目的\n",
    "1.\t掌握读、写图像的基本方法；\n",
    "2.\t掌握PYTHON语言中图像数据与信息的读取方法；\n",
    "3.\t理解图像灰度变换处理在图像增强的作用；\n",
    "4.\t掌握绘制灰度直方图的方法，理解灰度直方图的灰度变换及均衡化的方法。；\n",
    "5.\t掌握基于华为ModelArts开发环境的数字图像处理基本操作。"
   ]
  },
  {
   "cell_type": "markdown",
   "metadata": {},
   "source": [
    "### 二、实验内容与要求\n",
    "\n",
    "熟悉Python语言中对图像数据读取，显示等基本函数。\n",
    "1.\t将目录下work文件夹中的\"lena_ill.png\"文件读出。用到图像数据读取，显示等函数，观察一下图像数据，将这个图像显示出来。读入不同情况的图像，请自己编程和调用Python函数用常用灰度变换函数对输入图像进行灰度变换，比较相应的处理效果，感受图像灰度变换处理在图像增强的作用。"
   ]
  },
  {
   "cell_type": "code",
   "execution_count": 6,
   "metadata": {},
   "outputs": [
    {
     "ename": "SyntaxError",
     "evalue": "invalid character in identifier (4054296343.py, line 14)",
     "output_type": "error",
     "traceback": [
      "\u001b[1;36m  Cell \u001b[1;32mIn[6], line 14\u001b[1;36m\u001b[0m\n\u001b[1;33m    plt.imshow(img_gray，cmap='gray')\u001b[0m\n\u001b[1;37m                           ^\u001b[0m\n\u001b[1;31mSyntaxError\u001b[0m\u001b[1;31m:\u001b[0m invalid character in identifier\n"
     ]
    }
   ],
   "source": [
    "# 填入代码，并展示运行结果\n",
    "import matplotlib.pyplot as plt\n",
    "import matplotlib.image as mpimg\n",
    "import cv2\n",
    "import numpy as np\n",
    "\n",
    "img=cv2.imread(\"./work/lena_ill.png\")\n",
    "\n",
    "img_color=cv2.cvtColor(img, cv2.COLOR_BGR2RGB)\n",
    "print(img_color.shape)\n",
    "img_gray = (img_color@[0.299,0.587,0.114]).astype(np.uint8)\n",
    "print(img_gray)\n",
    "#plt.imshow(img_color)\n",
    "plt.imshow(img_gray，cmap='gray')\n",
    "plt.axis('off')  \n",
    "plt.show()"
   ]
  },
  {
   "cell_type": "markdown",
   "metadata": {},
   "source": [
    "2.\t绘制图像灰度直方图的方法，对图像进行均衡化处理\n",
    "将Python目录下work文件夹中的图像文件读出，用rgb2gray()将其转化为灰度图像，记为变量B。请自己编程和调用Python函数完成如下实验。\n",
    "\n",
    "- 1）\t显示B的图像及灰度直方图，可以发现其灰度值集中在一段区域，用函数将它的灰度值调整到[0, 1]之间，并观察调整后的图像与原图像的差别，调整后的灰度直方图与原灰度直方图的区别。\n"
   ]
  },
  {
   "cell_type": "code",
   "execution_count": 4,
   "metadata": {},
   "outputs": [
    {
     "ename": "NameError",
     "evalue": "name 'rgb2gray' is not defined",
     "output_type": "error",
     "traceback": [
      "\u001b[1;31m---------------------------------------------------------------------------\u001b[0m",
      "\u001b[1;31mNameError\u001b[0m                                 Traceback (most recent call last)",
      "Cell \u001b[1;32mIn[4], line 2\u001b[0m\n\u001b[0;32m      1\u001b[0m \u001b[38;5;66;03m# 填入代码，并展示运行结果\u001b[39;00m\n\u001b[1;32m----> 2\u001b[0m img\u001b[38;5;241m=\u001b[39m\u001b[43mrgb2gray\u001b[49m(img)\n\u001b[0;32m      3\u001b[0m plt\u001b[38;5;241m.\u001b[39mimshow(img)\n\u001b[0;32m      4\u001b[0m plt\u001b[38;5;241m.\u001b[39maxis(\u001b[38;5;124m'\u001b[39m\u001b[38;5;124moff\u001b[39m\u001b[38;5;124m'\u001b[39m)  \n",
      "\u001b[1;31mNameError\u001b[0m: name 'rgb2gray' is not defined"
     ]
    }
   ],
   "source": [
    "# 填入代码，并展示运行结果\n",
    "img=rgb2gray(img)\n",
    "plt.imshow(img)\n",
    "plt.axis('off')  \n",
    "plt.show()"
   ]
  },
  {
   "cell_type": "markdown",
   "metadata": {},
   "source": [
    "- 2）\t对B进行直方图均衡化处理，试比较与原图的异同。"
   ]
  },
  {
   "cell_type": "code",
   "execution_count": null,
   "metadata": {},
   "outputs": [],
   "source": [
    "# 填入代码，并展示运行结果"
   ]
  },
  {
   "cell_type": "markdown",
   "metadata": {},
   "source": [
    "3.\t使用Python语言对图像进行平移、旋转。"
   ]
  },
  {
   "cell_type": "code",
   "execution_count": null,
   "metadata": {},
   "outputs": [],
   "source": [
    "# 填入代码，并展示运行结果"
   ]
  },
  {
   "cell_type": "markdown",
   "metadata": {},
   "source": [
    "4.\t两幅图像(\"img_a.png\", \"img_b.png\")直方图是否相同，白色的为像素值1，黑色的为像素值0，当用3*3的均值滤波器滤波后（边界像素的处理采用拓展的方式，其白色的部分拓展为1，黑色的部分拓展为0），是否滤波后直方图也相同？简单解释原因，并且给出对左边图像进行滤波后图像各个灰度级。\n",
    "\n",
    "\n",
    "<div align=center>\n",
    "<img src=\"./work/ex1.png\"/>\n",
    "</div>"
   ]
  },
  {
   "cell_type": "code",
   "execution_count": null,
   "metadata": {},
   "outputs": [],
   "source": [
    "# 填入代码，并展示运行结果"
   ]
  },
  {
   "cell_type": "markdown",
   "metadata": {},
   "source": [
    "5.\t(a)画出原图像的直方图；(b)利用直方图均衡方法求出均衡化后新图像的直方图；(c)求出均衡化的图像。\n",
    "\n",
    "$$\n",
    "\\begin{array}{|c|c|c|c|c|}\n",
    "\\hline\n",
    "3 & 3 & 0 & 0 & 1\\\\\n",
    "\\hline\n",
    "3 & 3 & 1 & 1 & 4\\\\\n",
    "\\hline\n",
    "3 & 3 & 2 & 1 & 1\\\\\n",
    "\\hline\n",
    "3 & 3 & 2 & 4 & 1\\\\\n",
    "\\hline\n",
    "2 & 2 & 1 & 1 & 4\\\\\n",
    "\\hline\n",
    "\\end{array}\n",
    "$$"
   ]
  },
  {
   "cell_type": "code",
   "execution_count": null,
   "metadata": {},
   "outputs": [],
   "source": [
    "# 填入代码，并展示运行结果"
   ]
  }
 ],
 "metadata": {
  "kernelspec": {
   "display_name": "Python 3 (ipykernel)",
   "language": "python",
   "name": "python3"
  },
  "language_info": {
   "codemirror_mode": {
    "name": "ipython",
    "version": 3
   },
   "file_extension": ".py",
   "mimetype": "text/x-python",
   "name": "python",
   "nbconvert_exporter": "python",
   "pygments_lexer": "ipython3",
   "version": "3.8.18"
  }
 },
 "nbformat": 4,
 "nbformat_minor": 2
}
